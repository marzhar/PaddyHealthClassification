{
 "cells": [
  {
   "cell_type": "code",
   "execution_count": 1,
   "id": "representative-copyright",
   "metadata": {},
   "outputs": [],
   "source": [
    "from tensorflow.compat.v1 import ConfigProto\n",
    "from tensorflow.compat.v1 import InteractiveSession\n",
    "\n",
    "config = ConfigProto()\n",
    "config.gpu_options.per_process_gpu_memory_fraction = 0.5\n",
    "config.gpu_options.allow_growth = True\n",
    "session = InteractiveSession(config=config)"
   ]
  },
  {
   "cell_type": "code",
   "execution_count": 2,
   "id": "alone-slope",
   "metadata": {},
   "outputs": [],
   "source": [
    "# import the libraries as shown below\n",
    "\n",
    "from tensorflow.keras.layers import Input, Lambda, Dense, Flatten\n",
    "from tensorflow.keras.models import Model\n",
    "from tensorflow.keras.preprocessing import image\n",
    "from tensorflow.keras.preprocessing.image import ImageDataGenerator,load_img\n",
    "from tensorflow.keras.models import Sequential\n",
    "from keras.optimizers import SGD, RMSprop, Adam\n",
    "import numpy as np\n",
    "from glob import glob\n",
    "import matplotlib.pyplot as plt\n",
    "import tensorflow as tf"
   ]
  },
  {
   "cell_type": "code",
   "execution_count": 3,
   "id": "rental-press",
   "metadata": {},
   "outputs": [],
   "source": [
    "# re-size all the images to this\n",
    "IMAGE_SIZE = [224, 224]\n",
    "\n",
    "train_path = 'train'\n",
    "valid_path = 'val'\n",
    "test_path = 'test'"
   ]
  },
  {
   "cell_type": "code",
   "execution_count": 4,
   "id": "demanding-album",
   "metadata": {},
   "outputs": [],
   "source": [
    "# useful for getting number of output classes\n",
    "folders = glob('train/*')"
   ]
  },
  {
   "cell_type": "code",
   "execution_count": 5,
   "id": "renewable-landscape",
   "metadata": {},
   "outputs": [
    {
     "data": {
      "text/plain": [
       "['train\\\\Healthy', 'train\\\\Unhealthy']"
      ]
     },
     "execution_count": 5,
     "metadata": {},
     "output_type": "execute_result"
    }
   ],
   "source": [
    "folders"
   ]
  },
  {
   "cell_type": "code",
   "execution_count": 6,
   "id": "anonymous-going",
   "metadata": {},
   "outputs": [],
   "source": [
    "model = tf.keras.models.Sequential([tf.keras.layers.Conv2D(32,(3,3),activation = 'relu',input_shape = (224,224,3)),\n",
    "                                    tf.keras.layers.MaxPool2D(2,2),\n",
    "                                    \n",
    "                                    #\n",
    "                                    tf.keras.layers.Conv2D(64,(3,3),activation = 'relu'),\n",
    "                                    tf.keras.layers.MaxPool2D(2,2),\n",
    "                                   \n",
    "                                    #\n",
    "                                    tf.keras.layers.Conv2D(64,(3,3),activation = 'relu'),\n",
    "                                    tf.keras.layers.MaxPool2D(2,2),\n",
    "                                    \n",
    "                                    ##\n",
    "                                    tf.keras.layers.Flatten(),\n",
    "                                    ##\n",
    "                                    tf.keras.layers.Dense(128,activation = 'relu'),\n",
    "                                   \n",
    "                                    ##\n",
    "                                    tf.keras.layers.Dense(2,activation = 'softmax'),\n",
    "                                    ])"
   ]
  },
  {
   "cell_type": "code",
   "execution_count": 7,
   "id": "hybrid-trader",
   "metadata": {},
   "outputs": [
    {
     "name": "stdout",
     "output_type": "stream",
     "text": [
      "Model: \"sequential\"\n",
      "_________________________________________________________________\n",
      "Layer (type)                 Output Shape              Param #   \n",
      "=================================================================\n",
      "conv2d (Conv2D)              (None, 222, 222, 32)      896       \n",
      "_________________________________________________________________\n",
      "max_pooling2d (MaxPooling2D) (None, 111, 111, 32)      0         \n",
      "_________________________________________________________________\n",
      "conv2d_1 (Conv2D)            (None, 109, 109, 64)      18496     \n",
      "_________________________________________________________________\n",
      "max_pooling2d_1 (MaxPooling2 (None, 54, 54, 64)        0         \n",
      "_________________________________________________________________\n",
      "conv2d_2 (Conv2D)            (None, 52, 52, 64)        36928     \n",
      "_________________________________________________________________\n",
      "max_pooling2d_2 (MaxPooling2 (None, 26, 26, 64)        0         \n",
      "_________________________________________________________________\n",
      "flatten (Flatten)            (None, 43264)             0         \n",
      "_________________________________________________________________\n",
      "dense (Dense)                (None, 128)               5537920   \n",
      "_________________________________________________________________\n",
      "dense_1 (Dense)              (None, 2)                 258       \n",
      "=================================================================\n",
      "Total params: 5,594,498\n",
      "Trainable params: 5,594,498\n",
      "Non-trainable params: 0\n",
      "_________________________________________________________________\n"
     ]
    }
   ],
   "source": [
    "model.summary()"
   ]
  },
  {
   "cell_type": "code",
   "execution_count": 8,
   "id": "considered-pointer",
   "metadata": {},
   "outputs": [],
   "source": [
    "# tell the model what cost and optimization method to use\n",
    "model.compile(\n",
    "  loss='categorical_crossentropy',\n",
    "  optimizer='adam',\n",
    "  metrics=['accuracy']\n",
    ")"
   ]
  },
  {
   "cell_type": "code",
   "execution_count": 9,
   "id": "legislative-familiar",
   "metadata": {},
   "outputs": [],
   "source": [
    "# Use the Image Data Generator to import the images from the dataset\n",
    "from tensorflow.keras.preprocessing.image import ImageDataGenerator\n",
    "\n",
    "train_datagen = ImageDataGenerator(rescale = 1./255,\n",
    "                                   shear_range = 0.2,\n",
    "                                   zoom_range = 0.2,\n",
    "                                   horizontal_flip = True,\n",
    "                                   ) \n",
    "test_datagen = ImageDataGenerator(rescale = 1./255)"
   ]
  },
  {
   "cell_type": "code",
   "execution_count": 10,
   "id": "premium-capacity",
   "metadata": {},
   "outputs": [
    {
     "name": "stdout",
     "output_type": "stream",
     "text": [
      "Found 4693 images belonging to 2 classes.\n"
     ]
    }
   ],
   "source": [
    "# Make sure you provide the same target size as initialied for the image size\n",
    "train_generator = train_datagen.flow_from_directory('train',\n",
    "                                                 target_size = (224, 224),\n",
    "                                                 batch_size = 32,\n",
    "                                                 class_mode = 'categorical',\n",
    "                                                 ) # set as training data"
   ]
  },
  {
   "cell_type": "code",
   "execution_count": 11,
   "id": "subtle-species",
   "metadata": {},
   "outputs": [
    {
     "name": "stdout",
     "output_type": "stream",
     "text": [
      "Found 1564 images belonging to 2 classes.\n"
     ]
    }
   ],
   "source": [
    "valid_generator = train_datagen.flow_from_directory('val',\n",
    "                                            target_size = (224, 224),\n",
    "                                            batch_size = 32,\n",
    "                                            class_mode = 'categorical',\n",
    "                                            ) "
   ]
  },
  {
   "cell_type": "code",
   "execution_count": 12,
   "id": "settled-dispatch",
   "metadata": {},
   "outputs": [
    {
     "name": "stdout",
     "output_type": "stream",
     "text": [
      "Found 1564 images belonging to 2 classes.\n"
     ]
    }
   ],
   "source": [
    "test_generator = test_datagen.flow_from_directory('test',\n",
    "                                            target_size = (224, 224),\n",
    "                                            batch_size = 1,\n",
    "                                            class_mode = 'categorical',\n",
    "                                            ) "
   ]
  },
  {
   "cell_type": "code",
   "execution_count": 13,
   "id": "persistent-tuition",
   "metadata": {},
   "outputs": [
    {
     "name": "stderr",
     "output_type": "stream",
     "text": [
      "C:\\Users\\DELL\\anaconda3\\envs\\marzharenv\\lib\\site-packages\\tensorflow\\python\\keras\\engine\\training.py:1940: UserWarning: `Model.fit_generator` is deprecated and will be removed in a future version. Please use `Model.fit`, which supports generators.\n",
      "  warnings.warn('`Model.fit_generator` is deprecated and '\n"
     ]
    },
    {
     "name": "stdout",
     "output_type": "stream",
     "text": [
      "Epoch 1/5\n",
      "147/147 [==============================] - 146s 971ms/step - loss: 0.1636 - accuracy: 0.9393 - val_loss: 2.4009e-08 - val_accuracy: 1.0000\n",
      "Epoch 2/5\n",
      "147/147 [==============================] - 72s 492ms/step - loss: 1.1786e-08 - accuracy: 1.0000 - val_loss: 9.7563e-09 - val_accuracy: 1.0000\n",
      "Epoch 3/5\n",
      "147/147 [==============================] - 71s 486ms/step - loss: 9.5256e-09 - accuracy: 1.0000 - val_loss: 6.7836e-09 - val_accuracy: 1.0000\n",
      "Epoch 4/5\n",
      "147/147 [==============================] - 72s 493ms/step - loss: 5.7661e-09 - accuracy: 1.0000 - val_loss: 5.4117e-09 - val_accuracy: 1.0000\n",
      "Epoch 5/5\n",
      "147/147 [==============================] - 71s 485ms/step - loss: 4.6993e-09 - accuracy: 1.0000 - val_loss: 5.4879e-09 - val_accuracy: 1.0000\n"
     ]
    }
   ],
   "source": [
    "# fit the model\n",
    "# Run the cell. It will take some time to execute\n",
    "r = model.fit_generator(\n",
    "  train_generator,\n",
    "  validation_data=valid_generator,\n",
    "  epochs=5,\n",
    "  steps_per_epoch=len(train_generator),\n",
    "  validation_steps=len(valid_generator)\n",
    ")"
   ]
  },
  {
   "cell_type": "code",
   "execution_count": 15,
   "id": "consistent-array",
   "metadata": {},
   "outputs": [],
   "source": [
    "# save it as a h5 file\n",
    "\n",
    "\n",
    "from tensorflow.keras.models import load_model\n",
    "\n",
    "model.save('logs/phc_DeepCNN.h5')"
   ]
  },
  {
   "cell_type": "code",
   "execution_count": 14,
   "id": "looking-statistics",
   "metadata": {},
   "outputs": [
    {
     "data": {
      "image/png": "[encoded data removed]",
      "text/plain": [
       "<Figure size 432x288 with 1 Axes>"
      ]
     },
     "metadata": {
      "needs_background": "light"
     },
     "output_type": "display_data"
    },
    {
     "data": {
      "image/png": "[encoded data removed]",
      "text/plain": [
       "<Figure size 432x288 with 1 Axes>"
      ]
     },
     "metadata": {
      "needs_background": "light"
     },
     "output_type": "display_data"
    },
    {
     "data": {
      "text/plain": [
       "<Figure size 432x288 with 0 Axes>"
      ]
     },
     "metadata": {},
     "output_type": "display_data"
    }
   ],
   "source": [
    "# plot the loss\n",
    "plt.plot(r.history['loss'], label='train loss')\n",
    "plt.plot(r.history['val_loss'], label='val loss')\n",
    "plt.legend()\n",
    "plt.show()\n",
    "plt.savefig('LossVal_loss')\n",
    "\n",
    "# plot the accuracy\n",
    "plt.plot(r.history['accuracy'], label='train acc')\n",
    "plt.plot(r.history['val_accuracy'], label='val acc')\n",
    "plt.legend()\n",
    "plt.show()\n",
    "plt.savefig('AccVal_acc')"
   ]
  },
  {
   "cell_type": "code",
   "execution_count": 16,
   "id": "ancient-parcel",
   "metadata": {},
   "outputs": [
    {
     "name": "stdout",
     "output_type": "stream",
     "text": [
      "1564/1564 - 27s - loss: 3.8109e-07 - accuracy: 1.0000\n",
      "\n",
      "Test accuracy: 1.0\n",
      "\n",
      "Test loss: 3.8109072875158745e-07\n"
     ]
    }
   ],
   "source": [
    "test_loss, test_acc = model.evaluate(test_generator, verbose=2)\n",
    "print('\\nTest accuracy:', test_acc)\n",
    "print('\\nTest loss:', test_loss)"
   ]
  },
  {
   "cell_type": "code",
   "execution_count": 17,
   "id": "minor-essex",
   "metadata": {},
   "outputs": [
    {
     "name": "stdout",
     "output_type": "stream",
     "text": [
      "test accuracy : 100.0\n"
     ]
    },
    {
     "data": {
      "image/png": "[encoded data removed]",
      "text/plain": [
       "<Figure size 432x288 with 2 Axes>"
      ]
     },
     "metadata": {
      "needs_background": "light"
     },
     "output_type": "display_data"
    }
   ],
   "source": [
    "import pandas as pd\n",
    "import seaborn as sn\n",
    "import tensorflow as tf\n",
    "\n",
    "model = tf.keras.models.load_model('logs/phc_DeepCNN.h5')\n",
    "filenames = test_generator.filenames\n",
    "nb_samples = len(test_generator)\n",
    "y_prob=[]\n",
    "y_act=[]\n",
    "test_generator.reset()\n",
    "for _ in range(nb_samples):\n",
    "   X_test,Y_test = test_generator.next()\n",
    "   y_prob.append(model.predict(X_test))\n",
    "   y_act.append(Y_test)\n",
    "\n",
    "predicted_class = [list(train_generator.class_indices.keys())[i.argmax()] for i in y_prob]\n",
    "actual_class = [list(train_generator.class_indices.keys())[i.argmax()] for i in y_act]\n",
    "\n",
    "out_df = pd.DataFrame(np.vstack([predicted_class,actual_class]).T,columns=['predicted_class','actual_class'])\n",
    "confusion_matrix = pd.crosstab(out_df['actual_class'],out_df['predicted_class'], rownames=['Actual'], colnames=['Predicted'])\n",
    "\n",
    "sn.heatmap(confusion_matrix,cmap='Blues', annot=True,fmt='d')\n",
    "plt.show\n",
    "print('test accuracy : {}'.format((np.diagonal(confusion_matrix).sum()/confusion_matrix.sum().sum()*100)))"
   ]
  },
  {
   "cell_type": "code",
   "execution_count": null,
   "id": "powerful-shanghai",
   "metadata": {},
   "outputs": [],
   "source": []
  }
 ],
 "metadata": {
  "kernelspec": {
   "display_name": "Python [conda env:marzharenv] *",
   "language": "python",
   "name": "conda-env-marzharenv-py"
  },
  "language_info": {
   "codemirror_mode": {
    "name": "ipython",
    "version": 3
   },
   "file_extension": ".py",
   "mimetype": "text/x-python",
   "name": "python",
   "nbconvert_exporter": "python",
   "pygments_lexer": "ipython3",
   "version": "3.8.8"
  }
 },
 "nbformat": 4,
 "nbformat_minor": 5
}
